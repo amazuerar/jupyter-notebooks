{
 "cells": [
  {
   "cell_type": "code",
   "execution_count": null,
   "metadata": {},
   "outputs": [],
   "source": [
    "import logging\n",
    "import json\n",
    "import codecs\n",
    "import pandas as pd\n",
    "import requests\n",
    "from bson import json_util\n",
    "from github import Github\n",
    "import xlsxwriter\n",
    "import numpy as np\n",
    "from itertools import cycle\n",
    "import git\n",
    "from git import Repo\n",
    "from github import Github\n",
    "from git import Repo, Commit\n",
    "import os\n",
    "import sys\n",
    "from pymongo import MongoClient\n",
    "import io\n",
    "import nltk\n",
    "import re\n",
    "from collections import defaultdict\n",
    "from nltk.corpus import stopwords \n",
    "from nltk.tokenize import word_tokenize\n",
    "from nltk.stem.snowball import SnowballStemmer\n",
    "import mysql.connector\n",
    "import csv\n",
    "import operator\n",
    "import matplotlib.pyplot as plt\n",
    "import re"
   ]
  },
  {
   "cell_type": "markdown",
   "metadata": {},
   "source": [
    "## 1. BD CONNECTION"
   ]
  },
  {
   "cell_type": "code",
   "execution_count": null,
   "metadata": {},
   "outputs": [],
   "source": [
    "mydb = mysql.connector.connect(user='obfuscate', password='obfuscate', host='obfuscate', database='obfuscate')"
   ]
  },
  {
   "cell_type": "code",
   "execution_count": null,
   "metadata": {},
   "outputs": [],
   "source": [
    "mycursor = mydb.cursor(buffered=True)"
   ]
  },
  {
   "cell_type": "markdown",
   "metadata": {},
   "source": [
    "## 2. Getting list of IDS"
   ]
  },
  {
   "cell_type": "code",
   "execution_count": null,
   "metadata": {},
   "outputs": [],
   "source": [
    "def get_ids_to_consider():\n",
    "    list_ids = set()\n",
    "    i=1\n",
    "    with open('ids_to_consider.csv', newline='') as csvfile:\n",
    "        reader = csv.reader(csvfile)\n",
    "        for row in reader:\n",
    "            ##print(str(i),row[0])\n",
    "            if row[0] in list_ids:\n",
    "                print(row[0])\n",
    "            list_ids.add(row[0])\n",
    "            \n",
    "            i=i+1\n",
    "    return list_ids"
   ]
  },
  {
   "cell_type": "code",
   "execution_count": null,
   "metadata": {},
   "outputs": [],
   "source": [
    "list_ids = get_ids_to_consider()"
   ]
  },
  {
   "cell_type": "code",
   "execution_count": null,
   "metadata": {},
   "outputs": [],
   "source": [
    "print(str(len(list_ids)))"
   ]
  },
  {
   "cell_type": "code",
   "execution_count": null,
   "metadata": {},
   "outputs": [],
   "source": [
    "def validate_language(set_of_ids):\n",
    "    java = 0\n",
    "    kotlin = 0\n",
    "    query = \"SELECT type FROM entity WHERE id=\"\n",
    "    for element in set_of_ids:    \n",
    "        mycursor.execute(query+str(element))\n",
    "        for lang in mycursor:\n",
    "            language = lang[0]\n",
    "            if language == 'java':\n",
    "                java=java+1\n",
    "            else:\n",
    "                kotlin=kotlin+1\n",
    "    return (java,kotlin)"
   ]
  },
  {
   "cell_type": "code",
   "execution_count": null,
   "metadata": {},
   "outputs": [],
   "source": [
    "print(validate_language(list_ids))"
   ]
  },
  {
   "cell_type": "code",
   "execution_count": null,
   "metadata": {},
   "outputs": [],
   "source": [
    "def validate_same_vuln_tag(set_of_ids):\n",
    "    list_ids_good = set()\n",
    "    list_ids_wrong = set()\n",
    "    \n",
    "    query = \"SELECT vulnerability_tag FROM tag WHERE entity_id=\"\n",
    "    for element in set_of_ids:    \n",
    "        mycursor.execute(query+str(element))\n",
    "        \n",
    "        unique_tag = set()\n",
    "        \n",
    "        for tagged_vuln in mycursor:\n",
    "            tagged_vulnerability = tagged_vuln[0]\n",
    "            unique_tag.add(tagged_vulnerability)\n",
    "            #if('unclear' == tagged_vulnerability):\n",
    "                #print(element)\n",
    "        if(len(unique_tag)==1):\n",
    "            list_ids_good.add(element)\n",
    "        else:\n",
    "            list_ids_wrong.add(element)\n",
    "\n",
    "    return (list_ids_good,list_ids_wrong)\n",
    "    "
   ]
  },
  {
   "cell_type": "code",
   "execution_count": null,
   "metadata": {},
   "outputs": [],
   "source": [
    "validation_same_v_tag = validate_same_vuln_tag(list_ids)"
   ]
  },
  {
   "cell_type": "code",
   "execution_count": null,
   "metadata": {},
   "outputs": [],
   "source": [
    "print(str(len(validation_same_v_tag[0])))"
   ]
  },
  {
   "cell_type": "code",
   "execution_count": null,
   "metadata": {},
   "outputs": [],
   "source": [
    "print(validation_same_v_tag[1])"
   ]
  },
  {
   "cell_type": "markdown",
   "metadata": {},
   "source": [
    "## 3. Get list of elements for each language"
   ]
  },
  {
   "cell_type": "code",
   "execution_count": null,
   "metadata": {},
   "outputs": [],
   "source": [
    "def validate_same_vuln_tag(set_of_ids):\n",
    "    list_unique_vuln_tags_kotlin = dict()\n",
    "    list_unique_vuln_tags_java = dict()\n",
    "    \n",
    "    query = \"SELECT tag.entity_id, entity.type, tag.vulnerability_tag FROM tag INNER JOIN entity ON entity.id=tag.entity_id and entity_id=\"\n",
    "    for element in set_of_ids:    \n",
    "        mycursor.execute(query+str(element)+\" limit 1\")\n",
    "        \n",
    "        for tagged_vuln in mycursor:\n",
    "            \n",
    "            vulnerability = tagged_vuln[2]\n",
    "            language = tagged_vuln[1]\n",
    "            \n",
    "            if language == \"java\":\n",
    "                if vulnerability in list_unique_vuln_tags_java:\n",
    "                    list_unique_vuln_tags_java[vulnerability] += 1\n",
    "                else:\n",
    "                    list_unique_vuln_tags_java[vulnerability] = 1\n",
    "            elif language == \"kt\":\n",
    "                if vulnerability in list_unique_vuln_tags_kotlin:\n",
    "                    list_unique_vuln_tags_kotlin[vulnerability] += 1\n",
    "                else:\n",
    "                    list_unique_vuln_tags_kotlin[vulnerability] = 1\n",
    "    \n",
    "    return (list_unique_vuln_tags_kotlin, list_unique_vuln_tags_java)\n",
    "            "
   ]
  },
  {
   "cell_type": "code",
   "execution_count": null,
   "metadata": {},
   "outputs": [],
   "source": [
    "dictionaries = validate_same_vuln_tag(list_ids)"
   ]
  },
  {
   "cell_type": "markdown",
   "metadata": {},
   "source": [
    "## 3.1 KOTLIN"
   ]
  },
  {
   "cell_type": "code",
   "execution_count": null,
   "metadata": {},
   "outputs": [],
   "source": [
    "dictionary_kotlin = dictionaries[0]"
   ]
  },
  {
   "cell_type": "code",
   "execution_count": null,
   "metadata": {},
   "outputs": [],
   "source": [
    "print(str(len(dictionary_kotlin)))"
   ]
  },
  {
   "cell_type": "code",
   "execution_count": null,
   "metadata": {},
   "outputs": [],
   "source": [
    "sorted_d_kotlin = dict(sorted(dictionary_kotlin.items(), key=operator.itemgetter(1),reverse=True))"
   ]
  },
  {
   "cell_type": "code",
   "execution_count": null,
   "metadata": {},
   "outputs": [],
   "source": [
    "print(sorted_d_kotlin)"
   ]
  },
  {
   "cell_type": "code",
   "execution_count": null,
   "metadata": {},
   "outputs": [],
   "source": [
    "plt.bar(range(len(sorted_d_kotlin)), list(sorted_d_kotlin.values()), align='center')\n",
    "#plt.xticks(range(len(sorted_d_kotlin)), list(sorted_d_kotlin.keys()))\n",
    "\n",
    "\n",
    "plt.show()"
   ]
  },
  {
   "cell_type": "code",
   "execution_count": null,
   "metadata": {},
   "outputs": [],
   "source": [
    "sum(sorted_d_kotlin.values())"
   ]
  },
  {
   "cell_type": "code",
   "execution_count": null,
   "metadata": {},
   "outputs": [],
   "source": [
    "for key in sorted_d_kotlin.keys():\n",
    "    print(key)"
   ]
  },
  {
   "cell_type": "code",
   "execution_count": null,
   "metadata": {},
   "outputs": [],
   "source": [
    "for k, v in sorted_d_kotlin.items():\n",
    "    print(k, v)"
   ]
  },
  {
   "cell_type": "markdown",
   "metadata": {},
   "source": [
    "## 3.2 JAVA"
   ]
  },
  {
   "cell_type": "code",
   "execution_count": null,
   "metadata": {},
   "outputs": [],
   "source": [
    "dictionary_java = dictionaries[1]"
   ]
  },
  {
   "cell_type": "code",
   "execution_count": null,
   "metadata": {},
   "outputs": [],
   "source": [
    "print(str(len(dictionary_java)))"
   ]
  },
  {
   "cell_type": "code",
   "execution_count": null,
   "metadata": {},
   "outputs": [],
   "source": [
    "sorted_d_java = dict(sorted(dictionary_java.items(), key=operator.itemgetter(1),reverse=True))"
   ]
  },
  {
   "cell_type": "code",
   "execution_count": null,
   "metadata": {},
   "outputs": [],
   "source": [
    "print(sorted_d_java)"
   ]
  },
  {
   "cell_type": "code",
   "execution_count": null,
   "metadata": {},
   "outputs": [],
   "source": [
    "plt.bar(range(len(sorted_d_java)), list(sorted_d_java.values()), align='center')\n",
    "#plt.xticks(range(len(sorted_d_java)), list(sorted_d_java.keys()))\n",
    "\n",
    "\n",
    "plt.show()"
   ]
  },
  {
   "cell_type": "code",
   "execution_count": null,
   "metadata": {},
   "outputs": [],
   "source": [
    "sum(sorted_d_java.values())"
   ]
  },
  {
   "cell_type": "code",
   "execution_count": null,
   "metadata": {},
   "outputs": [],
   "source": [
    "for key in sorted_d_java.keys():\n",
    "    print(key)"
   ]
  },
  {
   "cell_type": "code",
   "execution_count": null,
   "metadata": {},
   "outputs": [],
   "source": [
    "for k, v in sorted_d_java.items():\n",
    "    print(k, v)"
   ]
  },
  {
   "cell_type": "markdown",
   "metadata": {},
   "source": [
    "## 4. Concatening Data views"
   ]
  },
  {
   "cell_type": "code",
   "execution_count": null,
   "metadata": {},
   "outputs": [],
   "source": [
    "first_view = pd.read_csv(\"CWE_list/699.csv\", sep = \",\", index_col=False)\n",
    "first_view.head(1)"
   ]
  },
  {
   "cell_type": "code",
   "execution_count": null,
   "metadata": {},
   "outputs": [],
   "source": [
    "first_view.shape"
   ]
  },
  {
   "cell_type": "code",
   "execution_count": null,
   "metadata": {},
   "outputs": [],
   "source": [
    "second_view = pd.read_csv(\"CWE_list/1000.csv\", sep = \",\",  index_col=False)\n",
    "second_view.head(1)"
   ]
  },
  {
   "cell_type": "code",
   "execution_count": null,
   "metadata": {},
   "outputs": [],
   "source": [
    "second_view.shape"
   ]
  },
  {
   "cell_type": "code",
   "execution_count": null,
   "metadata": {},
   "outputs": [],
   "source": [
    "third_view = pd.read_csv(\"CWE_list/1194.csv\", sep = \",\",  index_col=False)\n",
    "third_view.head(1)"
   ]
  },
  {
   "cell_type": "code",
   "execution_count": null,
   "metadata": {},
   "outputs": [],
   "source": [
    "third_view.shape"
   ]
  },
  {
   "cell_type": "code",
   "execution_count": null,
   "metadata": {},
   "outputs": [],
   "source": [
    "all_views  = pd.concat([first_view, second_view, third_view])\n",
    "all_views.head(1)"
   ]
  },
  {
   "cell_type": "code",
   "execution_count": null,
   "metadata": {},
   "outputs": [],
   "source": [
    "all_views.shape"
   ]
  },
  {
   "cell_type": "code",
   "execution_count": null,
   "metadata": {},
   "outputs": [],
   "source": [
    "all_views = all_views.drop_duplicates(subset=['CWE-ID'])"
   ]
  },
  {
   "cell_type": "code",
   "execution_count": null,
   "metadata": {},
   "outputs": [],
   "source": [
    "all_views.shape"
   ]
  },
  {
   "cell_type": "code",
   "execution_count": null,
   "metadata": {},
   "outputs": [],
   "source": [
    "short_version_all_views  = all_views[['CWE-ID','Name','Related Weaknesses']]"
   ]
  },
  {
   "cell_type": "code",
   "execution_count": null,
   "metadata": {},
   "outputs": [],
   "source": [
    "short_version_all_views.head(1)"
   ]
  },
  {
   "cell_type": "code",
   "execution_count": null,
   "metadata": {},
   "outputs": [],
   "source": [
    "short_version_all_views.shape"
   ]
  },
  {
   "cell_type": "markdown",
   "metadata": {},
   "source": [
    "## 5. REGEX for CWE"
   ]
  },
  {
   "cell_type": "code",
   "execution_count": null,
   "metadata": {},
   "outputs": [],
   "source": [
    "def get_list_of_childs(dataframe):\n",
    "    \n",
    "    dictionary = dict()\n",
    "    dictionary.update( {'0' : set()} )\n",
    "    \n",
    "    for index, row in dataframe.iterrows():\n",
    "        current_cwe = str(row['CWE-ID'])\n",
    "        dictionary.update( {current_cwe : set()} )\n",
    "    \n",
    "    for index, row in dataframe.iterrows():\n",
    "        try:\n",
    "            current_cwe = str(row['CWE-ID'])\n",
    "            current_parents = row['Related Weaknesses']\n",
    "            \n",
    "            if isinstance(current_parents, str):\n",
    "            \n",
    "                list_parents = [match.group().split(\":\")[2] for match in re.finditer(\"ChildOf:CWE ID:[0-9]+\", row['Related Weaknesses'])]      \n",
    "                if list_parents:\n",
    "                    for element in list_parents:\n",
    "                        dictionary[element].add(current_cwe)\n",
    "                else:\n",
    "                    dictionary['0'].add(current_cwe)\n",
    "            else:\n",
    "                list_parents = [match.group().split(\":\")[2] for match in re.finditer(\"ChildOf:CWE ID:[0-9]+\", str(row['Related Weaknesses']))]      \n",
    "                if list_parents:\n",
    "                    for element in list_parents:\n",
    "                        dictionary[element].add(current_cwe)\n",
    "                else:\n",
    "                    dictionary['0'].add(current_cwe)\n",
    "               \n",
    "        except Exception as inst:\n",
    "            print(row)\n",
    "            continue\n",
    "    \n",
    "    return dictionary\n",
    "    "
   ]
  },
  {
   "cell_type": "code",
   "execution_count": null,
   "metadata": {},
   "outputs": [],
   "source": [
    "graph = get_list_of_childs(short_version_all_views)"
   ]
  },
  {
   "cell_type": "code",
   "execution_count": null,
   "metadata": {},
   "outputs": [],
   "source": [
    "def get_info(set_of_ids):\n",
    "    for element in set_of_ids:    \n",
    "        mycursor.execute(\"SELECT id, text, type, repository,vulnerability_tag FROM  ( select * from entity WHERE id=\"+\"'\"+str(element)+\"'\"+\") as partial INNER JOIN  tag ON partial.id=tag.entity_id LIMIT 1\")\n",
    "        for lang in mycursor:\n",
    "            print(lang)\n",
    "            ## I added special characters at the beggining and at the end in order to use 'replace' in VSCode and remove the starting '(' and ending ')'"
   ]
  },
  {
   "cell_type": "code",
   "execution_count": null,
   "metadata": {},
   "outputs": [],
   "source": [
    "get_info(list_ids)"
   ]
  },
  {
   "cell_type": "code",
   "execution_count": null,
   "metadata": {},
   "outputs": [],
   "source": []
  }
 ],
 "metadata": {
  "kernelspec": {
   "display_name": "Python 3",
   "language": "python",
   "name": "python3"
  },
  "language_info": {
   "codemirror_mode": {
    "name": "ipython",
    "version": 3
   },
   "file_extension": ".py",
   "mimetype": "text/x-python",
   "name": "python",
   "nbconvert_exporter": "python",
   "pygments_lexer": "ipython3",
   "version": "3.7.3"
  }
 },
 "nbformat": 4,
 "nbformat_minor": 4
}
