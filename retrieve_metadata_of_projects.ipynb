{
 "cells": [
  {
   "cell_type": "code",
   "execution_count": null,
   "metadata": {},
   "outputs": [],
   "source": [
    "import scrapy\n",
    "import logging\n",
    "import json\n",
    "import codecs\n",
    "import pandas as pd\n",
    "from scrapy.crawler import CrawlerProcess\n",
    "from scrapy.selector import Selector\n",
    "import requests\n",
    "from bson import json_util\n",
    "from github import Github\n",
    "import xlsxwriter\n",
    "import numpy as np\n",
    "from itertools import cycle\n",
    "import matplotlib.pyplot as plt"
   ]
  },
  {
   "cell_type": "code",
   "execution_count": null,
   "metadata": {},
   "outputs": [],
   "source": [
    "fdroid_df = pd.read_json('obfuscated.json')\n",
    "fdroid_df.head(1)"
   ]
  },
  {
   "cell_type": "code",
   "execution_count": null,
   "metadata": {},
   "outputs": [],
   "source": [
    "fdroid_df.shape"
   ]
  },
  {
   "cell_type": "code",
   "execution_count": null,
   "metadata": {},
   "outputs": [],
   "source": [
    "fdroid_df = fdroid_df.drop(columns = ['depth','download_timeout','download_slot','download_latency','redirect_times','redirect_ttl','redirect_urls','redirect_reasons'])"
   ]
  },
  {
   "cell_type": "code",
   "execution_count": null,
   "metadata": {},
   "outputs": [],
   "source": [
    "fdroid_df.shape"
   ]
  },
  {
   "cell_type": "code",
   "execution_count": null,
   "metadata": {},
   "outputs": [],
   "source": [
    "fdroid_df.head(10)"
   ]
  },
  {
   "cell_type": "code",
   "execution_count": null,
   "metadata": {},
   "outputs": [],
   "source": [
    "fdroid_df[fdroid_df[\"source_code_repo\"].isna()]"
   ]
  },
  {
   "cell_type": "code",
   "execution_count": null,
   "metadata": {},
   "outputs": [],
   "source": [
    "droid_df_no_none_source_issue = fdroid_df[  (~fdroid_df[\"source_code_repo\"].isna()) ]"
   ]
  },
  {
   "cell_type": "code",
   "execution_count": null,
   "metadata": {},
   "outputs": [],
   "source": [
    "droid_df_no_none_source_issue.shape"
   ]
  },
  {
   "cell_type": "code",
   "execution_count": null,
   "metadata": {},
   "outputs": [],
   "source": [
    "fdroid_df_github = droid_df_no_none_source_issue[(droid_df_no_none_source_issue[\"source_code_repo\"].str.startswith('https://github.com'))]"
   ]
  },
  {
   "cell_type": "code",
   "execution_count": null,
   "metadata": {},
   "outputs": [],
   "source": [
    "fdroid_df_github"
   ]
  },
  {
   "cell_type": "code",
   "execution_count": null,
   "metadata": {},
   "outputs": [],
   "source": [
    "fdroid_df_github.shape"
   ]
  },
  {
   "cell_type": "code",
   "execution_count": null,
   "metadata": {},
   "outputs": [],
   "source": [
    "fdroid_df_github[\"creation_date\"] = None\n",
    "fdroid_df_github[\"size_reported_github\"] = None\n",
    "fdroid_df_github[\"main_language\"] = None\n",
    "fdroid_df_github[\"repo_name_on_github\"] = None"
   ]
  },
  {
   "cell_type": "code",
   "execution_count": null,
   "metadata": {},
   "outputs": [],
   "source": [
    "fdroid_df_github.reset_index(drop=True, inplace=True)"
   ]
  },
  {
   "cell_type": "code",
   "execution_count": null,
   "metadata": {},
   "outputs": [],
   "source": [
    "def getToken(token_number):\n",
    "    if str(token_number) == '1':\n",
    "        return 'obfuscated'\n",
    "    if str(token_number) == '2':\n",
    "        return 'obfuscated'\n",
    "    if str(token_number) == '3':\n",
    "        return 'obfuscated'\n",
    "    if str(token_number) == '4':\n",
    "        return 'obfuscatedv'\n",
    "    if str(token_number) == '5':\n",
    "        return 'obfuscated'\n",
    "    if str(token_number) == '6':\n",
    "        return 'obfuscated'\n",
    "    if str(token_number) == '7':\n",
    "        return 'obfuscated'\n",
    "    if str(token_number) == '8':\n",
    "        return 'obfuscated'\n",
    "    if str(token_number) == '9':\n",
    "        return 'obfuscated'\n",
    "    if str(token_number) == '10':\n",
    "        return 'obfuscated'\n",
    "    if str(token_number) == '11':\n",
    "        return 'obfuscated'\n",
    "    if str(token_number) == '12':\n",
    "        return 'obfuscated'"
   ]
  },
  {
   "cell_type": "code",
   "execution_count": null,
   "metadata": {},
   "outputs": [],
   "source": [
    "## Cuando el desarrollador marca el repo como archivado, no hay informacion disponible para el API\n",
    "## Si el nombre del repo termina con / al meterlo a la URL del API, no lo encuentra (e.g., https://github.com/ElijaxApps-org/android-xmrig-miner/)\n",
    "## Cuidado con el /tree envia a una rama especifica... y no encuentra info al ser llamada a la API\n",
    "\n",
    "def process(dataframe, first_token, second_token, third_token):\n",
    "    dft = dataframe\n",
    "    tkn_array = [getToken(first_token), getToken(second_token), getToken(third_token)]\n",
    "    alternator = cycle((0,1,2))\n",
    "    active_tkn = tkn_array[next(alternator)]\n",
    "    headers = {'Authorization': 'token ' + str(active_tkn)}\n",
    "    \n",
    "    for i, row in dft.iterrows():\n",
    "        if row['creation_date'] == None:\n",
    "            repo = row['source_code_repo'].replace(\"https://github.com/\", \"\").split(\"tree/\", 1)[0]\n",
    "            repo = repo[:-1] if repo.endswith('/') else repo\n",
    "            print(repo)\n",
    "            try:\n",
    "                response = requests.get(\"https://api.github.com/repos/\"+repo, headers=headers)\n",
    "                \n",
    "                if '\"message\": \"Not Found\"' not in response:\n",
    "                    data = json.dumps(response.json())\n",
    "                    loadAsJson = json.loads(data)\n",
    "\n",
    "                    year = loadAsJson[\"created_at\"]\n",
    "                    size = loadAsJson[\"size\"]\n",
    "                    language = loadAsJson[\"language\"]\n",
    "                    name = loadAsJson[\"name\"]\n",
    "\n",
    "                    dft.at[i, 'creation_date'] = year\n",
    "                    dft.at[i, 'size_reported_github'] = size\n",
    "                    dft.at[i, 'main_language'] = str(language)\n",
    "                    dft.at[i, 'repo_name_on_github'] = name\n",
    "\n",
    "                    print(\"--------------------------------------------------------------------------------------------------\")\n",
    "                    print(str(i), \" Estoy evaluando: \", name +\" \"+ year +\" \"+ str(size) +\" \"+ language)\n",
    "                    print(\"--------------------------------------------------------------------------------------------------\")\n",
    "                else:\n",
    "                    print(\"!!!!!!!!!!!!!!!!!!!!!!!!!!!!!!!!!!!!!!!!!!!!!!!!!!!!!!!!!!!!!!!!!!!!!!!!!!!!!!!!!!!!!!!!!!!!!!!\")\n",
    "                    print (str(i), \" NOT FOUND\", row['source_code_repo'])\n",
    "                    print (\" Repo name: \", row['app_name'])\n",
    "                    print(\"!!!!!!!!!!!!!!!!!!!!!!!!!!!!!!!!!!!!!!!!!!!!!!!!!!!!!!!!!!!!!!!!!!!!!!!!!!!!!!!!!!!!!!!!!!!!!!!\")\n",
    "                    dft.at[i, 'creation_date'] = 'Not Found'\n",
    "                    dft.at[i, 'size_reported_github'] = 'Not Found'\n",
    "                    dft.at[i, 'main_language'] = 'Not Found'\n",
    "                    dft.at[i, 'repo_name_on_github'] = 'Not Found'\n",
    "            except Exception as e:\n",
    "                print(\"##################################################################################################\")\n",
    "                print (str(i), \" Estoy evaluando: \", row['source_code_repo'])\n",
    "                print (\" Repo name: \", row['app_name'])\n",
    "                print (\"Causa la excepcion: \", e)\n",
    "                print(\"##################################################################################################\")\n",
    "                dft.at[i, 'creation_date'] = None\n",
    "                dft.at[i, 'size_reported_github'] = None\n",
    "                dft.at[i, 'main_language'] = None\n",
    "                dft.at[i, 'repo_name_on_github'] = None\n",
    "    return dft"
   ]
  },
  {
   "cell_type": "code",
   "execution_count": null,
   "metadata": {},
   "outputs": [],
   "source": [
    "fdroid_df_github = process(fdroid_df_github, 4,5,6)"
   ]
  },
  {
   "cell_type": "code",
   "execution_count": null,
   "metadata": {},
   "outputs": [],
   "source": [
    "fdroid_df_github"
   ]
  },
  {
   "cell_type": "code",
   "execution_count": null,
   "metadata": {},
   "outputs": [],
   "source": [
    "count_nan = len(fdroid_df_github) - fdroid_df_github.count()\n",
    "print(str(count_nan))"
   ]
  },
  {
   "cell_type": "code",
   "execution_count": null,
   "metadata": {},
   "outputs": [],
   "source": [
    "droid_df_clean = fdroid_df_github[  (~fdroid_df_github[\"main_language\"].isna()) ]"
   ]
  },
  {
   "cell_type": "code",
   "execution_count": null,
   "metadata": {},
   "outputs": [],
   "source": [
    "droid_df_clean.shape"
   ]
  },
  {
   "cell_type": "code",
   "execution_count": null,
   "metadata": {},
   "outputs": [],
   "source": [
    "# Create a Pandas Excel writer using XlsxWriter as the engine.\n",
    "writer = pd.ExcelWriter('obfuscated.xlsx', engine='xlsxwriter')\n",
    "\n",
    "# Convert the dataframe to an XlsxWriter Excel object.\n",
    "droid_df_clean.to_excel(writer, sheet_name='obfuscated')\n",
    "\n",
    "# Close the Pandas Excel writer and output the Excel file.\n",
    "writer.save()"
   ]
  },
  {
   "cell_type": "code",
   "execution_count": null,
   "metadata": {},
   "outputs": [],
   "source": [
    "plt.clf()\n",
    "droid_df_clean.groupby('main_language').size().sort_values(ascending=False).plot(kind='bar',figsize=(20,10))\n",
    "plt.show()"
   ]
  },
  {
   "cell_type": "code",
   "execution_count": null,
   "metadata": {},
   "outputs": [],
   "source": [
    "droid_df_clean.groupby('main_language').size().sort_values(ascending=False)"
   ]
  },
  {
   "cell_type": "code",
   "execution_count": null,
   "metadata": {},
   "outputs": [],
   "source": [
    "res = g.apply(lambda x: x.order(ascending=False).head(3))"
   ]
  }
 ],
 "metadata": {
  "kernelspec": {
   "display_name": "Python 3",
   "language": "python",
   "name": "python3"
  },
  "language_info": {
   "codemirror_mode": {
    "name": "ipython",
    "version": 3
   },
   "file_extension": ".py",
   "mimetype": "text/x-python",
   "name": "python",
   "nbconvert_exporter": "python",
   "pygments_lexer": "ipython3",
   "version": "3.7.3"
  }
 },
 "nbformat": 4,
 "nbformat_minor": 4
}
