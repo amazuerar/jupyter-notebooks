{
 "cells": [
  {
   "cell_type": "code",
   "execution_count": null,
   "metadata": {},
   "outputs": [],
   "source": [
    "import json\n",
    "import sys\n",
    "import os\n",
    "from pymongo import MongoClient\n",
    "import io\n",
    "from bson import ObjectId\n",
    "import wget\n",
    "import subprocess\n",
    "import shutil\n",
    "import os\n",
    "import sys\n",
    "import re"
   ]
  },
  {
   "cell_type": "code",
   "execution_count": null,
   "metadata": {},
   "outputs": [],
   "source": [
    "def is_files_in_list(my_list):\n",
    "    regexp_first = re.compile(r'good(G2B|B2G)')\n",
    "    res = [x for x in my_list if re.search(regexp_first, x)] \n",
    "    \n",
    "    if len(res) > 0:\n",
    "        return True\n",
    "    else:\n",
    "        return False"
   ]
  },
  {
   "cell_type": "code",
   "execution_count": null,
   "metadata": {},
   "outputs": [],
   "source": [
    "path = \"/obfuscated/DATASETS/SARD/000/\"\n",
    "\n",
    "files = []\n",
    "\n",
    "regexp = re.compile(r'_\\d{2}[a-z].+[a-z]')\n",
    "\n",
    "# r=root, d=directories, f = files\n",
    "for r, d, f in os.walk(path):\n",
    "    in_files = is_files_in_list(f)\n",
    "    if in_files == True:\n",
    "        pass\n",
    "    else:\n",
    "        for file in f:\n",
    "            if not regexp.search(file) and not '_bad.' in file and not '_good1.' in file and not '.DS_Store' in file:\n",
    "                files.append(os.path.join(r, file))"
   ]
  },
  {
   "cell_type": "code",
   "execution_count": null,
   "metadata": {},
   "outputs": [],
   "source": [
    "print(str(len(files)))"
   ]
  },
  {
   "cell_type": "code",
   "execution_count": null,
   "metadata": {},
   "outputs": [],
   "source": [
    "raw_lst = [r'(helperBad|badVaSink[BG]?)|(helperGood(G2B|B2G)?\\d*)|(good(G2B|B2G)?\\d*VaSink[BG]?)',r'badSource(_[a-z])?|badSink(_[a-z])?|good(G2B\\d*|B2G\\d*)?Source(_[a-z])?|good(G2B\\d*|B2G\\d*)?Sink(_[a-z])?']\n",
    "reg_lst = []\n",
    "\n",
    "for raw_regex in raw_lst:\n",
    "    reg_lst.append(re.compile(raw_regex))"
   ]
  },
  {
   "cell_type": "code",
   "execution_count": null,
   "metadata": {},
   "outputs": [],
   "source": [
    "for file in files:\n",
    "    \n",
    "    with open(file,'r') as f:\n",
    "        \n",
    "        a = f.read()\n",
    "        \n",
    "        if any(compiled_reg.search(a) for compiled_reg in reg_lst):\n",
    "            pass\n",
    "        else:\n",
    "            files_second_filter.append(os.path.join(r, file)) "
   ]
  },
  {
   "cell_type": "code",
   "execution_count": null,
   "metadata": {},
   "outputs": [],
   "source": [
    "print(str(len(files_second_filter)))"
   ]
  },
  {
   "cell_type": "code",
   "execution_count": null,
   "metadata": {},
   "outputs": [],
   "source": [
    "for element in files_second_filter:\n",
    "    print(element)"
   ]
  },
  {
   "cell_type": "code",
   "execution_count": null,
   "metadata": {},
   "outputs": [],
   "source": [
    "for element in files_second_filter:\n",
    "    my_basic_string = element\n",
    "    info_string = my_basic_string.split('SARD', 1)[1]\n",
    "    \n",
    "    id = info_string\n",
    "    path_separation = info_string.split('CWE',1)\n",
    "    path = path_separation[0]\n",
    "    file_name = 'CWE'+path_separation[1]\n",
    "    cwe = file_name.split('__',1)[0]\n",
    "    functional_variant_name = file_name.split('__',1)[1].split('.',1)[0].rsplit('_', 1)[0]\n",
    "    flow_variant = file_name.split('__',1)[1].split('.',1)[0].rsplit('_', 1)[1]\n",
    "    language = file_name.split('__',1)[1].split('.',1)[1]\n",
    "    \n",
    "    print(id)\n",
    "    print(path)\n",
    "    print(file_name)\n",
    "    print(cwe)\n",
    "    print(functional_variant_name)\n",
    "    print(flow_variant)\n",
    "    print(language)"
   ]
  },
  {
   "cell_type": "code",
   "execution_count": null,
   "metadata": {},
   "outputs": [],
   "source": [
    "client = MongoClient('mongodb://obfuscated/')\n",
    "db = client['obfuscated']\n",
    "collection = db[\"obfuscated\"]\n",
    "\n",
    "my_doc = None;\n",
    "\n",
    "for element in files_second_filter:\n",
    "    my_basic_string = element\n",
    "    info_string = my_basic_string.split('SARD', 1)[1]\n",
    "    \n",
    "    identification = info_string\n",
    "    path_separation = info_string.split('CWE',1)\n",
    "    path = path_separation[0]\n",
    "    file_name = 'CWE'+path_separation[1]\n",
    "    cwe = file_name.split('__',1)[0]\n",
    "    functional_variant_name = file_name.split('__',1)[1].split('.',1)[0].rsplit('_', 1)[0]\n",
    "    flow_variant = file_name.split('__',1)[1].split('.',1)[0].rsplit('_', 1)[1]\n",
    "    language = file_name.split('__',1)[1].split('.',1)[1]\n",
    "    \n",
    "    my_doc = { \"id\":identification, \"path\":path ,\"file_name\": file_name, \"cwe\": cwe, \"functional_variant_name\":functional_variant_name, \"flow_variant\":flow_variant, \"language\":language }\n",
    "        \n",
    "    try:\n",
    "        collection.insert_one(my_doc)\n",
    "    except Exception:\n",
    "        pass\n",
    "        \n",
    "    my_doc = None;"
   ]
  }
 ],
 "metadata": {
  "kernelspec": {
   "display_name": "Python 3",
   "language": "python",
   "name": "python3"
  },
  "language_info": {
   "codemirror_mode": {
    "name": "ipython",
    "version": 3
   },
   "file_extension": ".py",
   "mimetype": "text/x-python",
   "name": "python",
   "nbconvert_exporter": "python",
   "pygments_lexer": "ipython3",
   "version": "3.7.3"
  }
 },
 "nbformat": 4,
 "nbformat_minor": 4
}
