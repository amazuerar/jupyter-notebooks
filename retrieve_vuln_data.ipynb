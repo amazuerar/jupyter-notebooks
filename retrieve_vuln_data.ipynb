{
 "cells": [
  {
   "cell_type": "code",
   "execution_count": null,
   "metadata": {},
   "outputs": [],
   "source": [
    "#SE REALIZAN LAS IMPORTACIONES NECESARIAS\n",
    "%matplotlib inline\n",
    "from pymongo import MongoClient\n",
    "import bson\n",
    "from bson import json_util\n",
    "import pandas as pd\n",
    "import datetime\n",
    "import time\n",
    "from datetime import datetime as dt\n",
    "import json\n",
    "import re\n",
    "import os\n",
    "from bson.json_util import dumps\n",
    "from pandas.io.json import json_normalize\n",
    "import xlsxwriter\n",
    "import matplotlib\n",
    "import matplotlib.pyplot as plt\n",
    "import pandas_profiling"
   ]
  },
  {
   "cell_type": "code",
   "execution_count": null,
   "metadata": {},
   "outputs": [],
   "source": [
    "#CONEXION A LA BASE DE DATOS\n",
    "ip = 'obfuscated'\n",
    "port = obfuscated\n",
    "\n",
    "client = MongoClient(ip, port)\n",
    "db = client['obfuscated']\n",
    "\n",
    "# LLAMADO A LA COLECCION ManualClassificationValues\n",
    "manualClassValues = db['obfuscated']\n",
    "\n",
    "# LLAMADO A LA COLECCION ScraperValues\n",
    "scraperValues = db['obfuscated']\n",
    "\n",
    "# LLAMADO A LA COLECCION JoinedVulnerabilitiesDateFormat\n",
    "joinedVulnerabilitiesDateFormat = db['obfuscated']"
   ]
  },
  {
   "cell_type": "markdown",
   "metadata": {},
   "source": [
    "## I. Procedimiento para leer el archivo de clasificación manual (.xlsx) y cargarlo a MongoDB"
   ]
  },
  {
   "cell_type": "code",
   "execution_count": null,
   "metadata": {},
   "outputs": [],
   "source": [
    "#SE IMPORTA EL ARCHIVO\n",
    "xls_file = pd.ExcelFile('/obfuscated.xlsx')\n",
    "\n",
    "# SE IMPRIME EL NOMBRE DE LAS HOJAS DE CALCULO PARA SABER CUAL ES LA DE INTERES\n",
    "# xls_file.sheet_names\n",
    "\n",
    "# SE DEFINE UN NUEVO DATAFRAME CON LA HOJA DE CALCULO DE INTERES\n",
    "sheetName = 'obfuscated'\n",
    "df = xls_file.parse(sheetName)\n",
    "# SE ELIMINA LA COLUMNA NUMBER YA QUE NO ES RELEVANTE\n",
    "del df['Number']"
   ]
  },
  {
   "cell_type": "code",
   "execution_count": null,
   "metadata": {},
   "outputs": [],
   "source": [
    "# SE DEFINE UN METODO PARA EXTRAER UN CVE-ID DE UN STRING POR MEDIO DE EXPRESIONES REGULARES\n",
    "def getID(cveLink):\n",
    "    found = re.search('CVE-[0-9]+-[0-9]+', cveLink).group(0)\n",
    "    return found"
   ]
  },
  {
   "cell_type": "code",
   "execution_count": null,
   "metadata": {},
   "outputs": [],
   "source": [
    "# SE CREA UNA NUEVA COLUMNA LLAMADA ID, EN LA CUAL SE GUARDA EL ID EXTRAIDO DE LA COLUMNA CVE-LINK\n",
    "df['cveId'] = df['CVE-link'].map(getID)"
   ]
  },
  {
   "cell_type": "code",
   "execution_count": null,
   "metadata": {},
   "outputs": [],
   "source": [
    "#SE HACE LA CONVERSION DEL DATFRAME A JSON\n",
    "exportJSON = df.to_json(orient='records')\n",
    "\n",
    "#SE GUARDA EL JSON EN UN ARCHIVO CON EXTENSION .json\n",
    "with open('obfuscated.json', 'w') as file:\n",
    "     json.dump(exportJSON, file)"
   ]
  },
  {
   "cell_type": "code",
   "execution_count": null,
   "metadata": {},
   "outputs": [],
   "source": [
    "#AGREGAR LOS DOCUMENTOS A UNA COLECCION, SI LA COLECCION NO TIENE DOCUMENTOS SE AGREGAN \n",
    "#DE LO CONTRARIO SE BORRAN LOS QUE ESTABAN Y SE AGREGAN LOS NUEVOS\n",
    "def addToCollection(collection, documents):\n",
    "    if collection.count() == 0:\n",
    "        data = json_util.loads(documents)\n",
    "        collection.insert_many(data)\n",
    "    else:\n",
    "        collection.delete_many({})\n",
    "        data = json_util.loads(documents)\n",
    "        collection.insert_many(data)"
   ]
  },
  {
   "cell_type": "code",
   "execution_count": null,
   "metadata": {},
   "outputs": [],
   "source": [
    "# INVOCACION AL METODO addToCollection() PARA GUARDAR EL DATAFRAME CONVERTIDO A JSON\n",
    "addToCollection(manualClassValues, exportJSON)"
   ]
  },
  {
   "cell_type": "markdown",
   "metadata": {},
   "source": [
    "## II. Procedimiento para leer archivos de la información extraida con web scraping (.json) del web scraping y cargarlos a MongoDB"
   ]
  },
  {
   "cell_type": "code",
   "execution_count": null,
   "metadata": {},
   "outputs": [],
   "source": [
    "#METODO PARA SABER SI UNA COLLECCION ESTA VACIA\n",
    "def isCollectionEmpty(collection):\n",
    "    if collection.count() == 0:\n",
    "        return True\n",
    "    else:\n",
    "        return False"
   ]
  },
  {
   "cell_type": "code",
   "execution_count": null,
   "metadata": {},
   "outputs": [],
   "source": [
    "#ENTRAR A UNA RUTA Y LEER CADA ARCHIVO .json QUE AHI SE ENCUENTRA, SE LEE SU CONTENIDO Y SE AGREGA UNO A UNO A MONGO\n",
    "path_to_jsons = '/obfuscated/CVE-DATA'\n",
    "data = {}\n",
    "\n",
    "if isCollectionEmpty(scraperValues):\n",
    "    for pos_json in os.listdir(path_to_jsons):\n",
    "        if pos_json.endswith('.json'):\n",
    "            f = open(os.path.join(path_to_jsons, pos_json), 'r')\n",
    "            data = json.load(f)\n",
    "            scraperValues.insert_one(data)\n",
    "else:\n",
    "    scraperValues.delete_many({})\n",
    "    for pos_json in os.listdir(path_to_jsons):\n",
    "        if pos_json.endswith('.json'):\n",
    "            f = open(os.path.join(path_to_jsons, pos_json), 'r')\n",
    "            data = json.load(f)\n",
    "            scraperValues.insert_one(data)"
   ]
  },
  {
   "cell_type": "markdown",
   "metadata": {},
   "source": [
    "## III. Extraer información de Mongo según rango de fechas (Informacion completa)"
   ]
  },
  {
   "cell_type": "code",
   "execution_count": null,
   "metadata": {},
   "outputs": [],
   "source": [
    "years = [2008, 2009, 2010, 2011, 2012, 2013, 2014, 2015, 2016, 2017]\n",
    "semesters = [1, 2]"
   ]
  },
  {
   "cell_type": "code",
   "execution_count": null,
   "metadata": {},
   "outputs": [],
   "source": [
    "def getDataByDateRange(year, semester):\n",
    "    \n",
    "    if semester == 1:\n",
    "            return joinedVulnerabilitiesDateFormat.aggregate(\n",
    "            [\n",
    "\n",
    "            { \"$match\": \n",
    "                {\n",
    "                    \"webScrapingInformation.publishDate\": \n",
    "                    {\n",
    "                        \"$gte\": dt(year,1,1), \n",
    "                        \"$lte\": dt(year,6,30)\n",
    "                    }\n",
    "                }\n",
    "            },\n",
    "            { \"$sort\": { \"webScrapingInformation.publishDate\": 1 } },\n",
    "            { \"$project\" : \n",
    "                { \n",
    "                    \"_id\" : 0,\n",
    "                    \"cveId\" : 1,\n",
    "                    \"Manually assigned type (high-level)\" : 1,\n",
    "                    \"Manually assigned type (low-level)\" : 1,\n",
    "                    \"high-level\" : 1,\n",
    "                    \"subsystem\" : 1,\n",
    "                    \"publishDate\" : { \"$dateToString\": { \"format\": \"%Y-%m-%d\", \"date\": \"$webScrapingInformation.publishDate\" } },\n",
    "                    \"range\": {\"$literal\": str(year)+\"-\"+str(semester)}\n",
    "            \n",
    "                }\n",
    "            }\n",
    "        \n",
    "            \n",
    "            ]\n",
    "            )\n",
    "        \n",
    "    if semester == 2:\n",
    "            return joinedVulnerabilitiesDateFormat.aggregate(\n",
    "            [\n",
    "\n",
    "            { \"$match\": \n",
    "                {\n",
    "                    \"webScrapingInformation.publishDate\": \n",
    "                    {\n",
    "                        \"$gte\": dt(year,7,1), \n",
    "                        \"$lte\": dt(year,12,31)\n",
    "                    }\n",
    "                }\n",
    "            },\n",
    "            { \"$sort\": { \"webScrapingInformation.publishDate\": 1 } },\n",
    "            { \"$project\" : \n",
    "                { \n",
    "                    \"_id\" : 0,\n",
    "                    \"cveId\" : 1,\n",
    "                    \"Manually assigned type (high-level)\" : 1,\n",
    "                    \"Manually assigned type (low-level)\" : 1,\n",
    "                    \"high-level\" : 1,\n",
    "                    \"subsystem\" : 1,\n",
    "                    \"publishDate\" : { \"$dateToString\": { \"format\": \"%Y-%m-%d\", \"date\": \"$webScrapingInformation.publishDate\" } },\n",
    "                    \"range\": {\"$literal\": str(year)+\"-\"+str(semester)}\n",
    "            \n",
    "                }\n",
    "            }\n",
    "            ]\n",
    "            )\n"
   ]
  },
  {
   "cell_type": "code",
   "execution_count": null,
   "metadata": {},
   "outputs": [],
   "source": [
    "def writeToExcel():\n",
    "    # SE CREA UN Pandas Excel writer USANDO XlsxWriter\n",
    "    writer = pd.ExcelWriter('vulnerabilites_semesters.xlsx', engine='xlsxwriter')\n",
    "    # SE HACE UN ITERACION A LOS ANOS Y A LOS SEMESTRES, DEVUELVE LA INFORMACION POR CADA PERIODO Y LA GUARDA EN UNA\n",
    "    # PESTAÑA DIFERENTE POR PERIODO EN EL EXCEL DESTINO\n",
    "    \n",
    "    for year in years:\n",
    "        for semester in semesters:\n",
    "            JSONRangeDate = getDataByDateRange(year, semester)\n",
    "            dataFromJSONRangeDate = json.loads(dumps(JSONRangeDate))     \n",
    "            dataFrame = json_normalize(dataFromJSONRangeDate)\n",
    "            dataFrame.to_excel(writer, sheet_name=\"\"+str(year)+\"-\"+str(semester))\n",
    "        \n",
    "    writer.save()\n",
    "\n",
    "writeToExcel()"
   ]
  },
  {
   "cell_type": "code",
   "execution_count": null,
   "metadata": {},
   "outputs": [],
   "source": [
    "def getDataFrameAggregateInfo():\n",
    "    dataFrame = pd.DataFrame([])\n",
    "    \n",
    "    for year in years:\n",
    "        for semester in semesters:\n",
    "            JSONRangeDate = getDataByDateRange(year, semester)\n",
    "            dataFromJSONRangeDate = json.loads(dumps(JSONRangeDate))  \n",
    "            dataFrameTemp = json_normalize(dataFromJSONRangeDate)\n",
    "            dataFrame = dataFrame.append(pd.DataFrame(dataFrameTemp))\n",
    "    return dataFrame"
   ]
  },
  {
   "cell_type": "code",
   "execution_count": null,
   "metadata": {},
   "outputs": [],
   "source": [
    "dataFrameAggregateInfo = getDataFrameAggregateInfo()\n",
    "pandas_profiling.ProfileReport(dataFrameAggregateInfo)"
   ]
  },
  {
   "cell_type": "markdown",
   "metadata": {},
   "source": [
    "## IV. Extraer información de Mongo según rango de fechas (Count)"
   ]
  },
  {
   "cell_type": "code",
   "execution_count": null,
   "metadata": {},
   "outputs": [],
   "source": [
    "def getDataCountByDateRange(year, semester):\n",
    "    \n",
    "    if semester == 1:\n",
    "            return joinedVulnerabilitiesDateFormat.aggregate(\n",
    "            [\n",
    "\n",
    "            { \"$match\": \n",
    "                {\n",
    "                    \"webScrapingInformation.publishDate\": \n",
    "                    {\n",
    "                        \"$gte\": dt(year,1,1), \n",
    "                        \"$lte\": dt(year,6,30)\n",
    "                    }\n",
    "                }\n",
    "            },\n",
    "            { \"$sort\": { \"webScrapingInformation.publishDate\": 1 } },\n",
    "            { \"$project\" : \n",
    "                { \n",
    "                    \"_id\" : 0,\n",
    "                    \"cveId\" : 1,\n",
    "                    \"Manually assigned type (high-level)\" : 1,\n",
    "                    \"Manually assigned type (low-level)\" : 1,\n",
    "                    \"high-level\" : 1,\n",
    "                    \"subsystem\" : 1,\n",
    "                    \"publishDate\" : { \"$dateToString\": { \"format\": \"%Y-%m-%d\", \"date\": \"$webScrapingInformation.publishDate\" } },\n",
    "                    \"range\": {\"$literal\": str(year)+\"-\"+str(semester)}\n",
    "            \n",
    "                }\n",
    "            },\n",
    "            {\n",
    "              \"$count\": \"count\"\n",
    "            }\n",
    "            ]\n",
    "            )\n",
    "        \n",
    "    if semester == 2:\n",
    "            return joinedVulnerabilitiesDateFormat.aggregate(\n",
    "            [\n",
    "\n",
    "            { \"$match\": \n",
    "                {\n",
    "                    \"webScrapingInformation.publishDate\": \n",
    "                    {\n",
    "                        \"$gte\": dt(year,7,1), \n",
    "                        \"$lte\": dt(year,12,31)\n",
    "                    }\n",
    "                }\n",
    "            },\n",
    "            { \"$sort\": { \"webScrapingInformation.publishDate\": 1 } },\n",
    "            { \"$project\" : \n",
    "                { \n",
    "                    \"_id\" : 0,\n",
    "                    \"cveId\" : 1,\n",
    "                    \"Manually assigned type (high-level)\" : 1,\n",
    "                    \"Manually assigned type (low-level)\" : 1,\n",
    "                    \"high-level\" : 1,\n",
    "                    \"subsystem\" : 1,\n",
    "                    \"publishDate\" : { \"$dateToString\": { \"format\": \"%Y-%m-%d\", \"date\": \"$webScrapingInformation.publishDate\" } },\n",
    "                    \"range\": {\"$literal\": str(year)+\"-\"+str(semester)}\n",
    "            \n",
    "                }\n",
    "            },\n",
    "            {\n",
    "              \"$count\": \"count\"\n",
    "            }\n",
    "            ]\n",
    "            )\n"
   ]
  },
  {
   "cell_type": "code",
   "execution_count": null,
   "metadata": {},
   "outputs": [],
   "source": [
    "def getJSONCount():\n",
    "\n",
    "    dataCount = []\n",
    "    for year in years:\n",
    "        for semester in semesters:\n",
    "            response_json = {}\n",
    "            response_json[\"semester\"] = str(year)+\"-\"+str(semester)\n",
    "            response_json[\"total\"] = getDataCountByDateRange(year, semester)\n",
    "            dataCount.append(response_json)\n",
    "    dataFromJSONRangeDate = json.loads(dumps(dataCount))     \n",
    "    return json_normalize(dataFromJSONRangeDate)\n",
    "\n",
    "dataframeSemesterTotal = getJSONCount()\n",
    "\n",
    "#NORMALIZA LA COLUMNA TOTAL DEVOLVIENDO EL ENTERO CORRESPONDIENTE\n",
    "def getCount(total):\n",
    "    if total == []:\n",
    "        return 0\n",
    "    else:\n",
    "        return total[0]['count']\n",
    "\n",
    "# LA COLUMNA TOTAL SE MODIFICA PARA QUE TENGA EL VALOR ENTERO DE LA CANTIDAD DE VULNERABILIDADES POR SEMESTRE\n",
    "dataframeSemesterTotal['total'] = dataframeSemesterTotal['total'].map(getCount)"
   ]
  },
  {
   "cell_type": "code",
   "execution_count": null,
   "metadata": {},
   "outputs": [],
   "source": [
    "a = dataframeSemesterTotal.plot(x=\"semester\", kind='bar', legend=False, title='Vulnerabilities over time', rot=0, figsize=(15, 6))\n",
    "a.set_xlabel('Semesters')\n",
    "a.set_ylabel('Vulnerabilities')\n",
    "\n",
    "for p in a.patches: \n",
    "    a.annotate(p.get_height(), (p.get_x()+p.get_width()/2., p.get_height()), ha='center', va='center', xytext=(0, 7), textcoords='offset points')\n",
    "\n",
    "plt.gcf().subplots_adjust(bottom=0.15)\n",
    "plt.savefig('VulnerabilitiesSemesters.png', bbox_inches='tight')"
   ]
  }
 ],
 "metadata": {
  "kernelspec": {
   "display_name": "Python 3",
   "language": "python",
   "name": "python3"
  },
  "language_info": {
   "codemirror_mode": {
    "name": "ipython",
    "version": 3
   },
   "file_extension": ".py",
   "mimetype": "text/x-python",
   "name": "python",
   "nbconvert_exporter": "python",
   "pygments_lexer": "ipython3",
   "version": "3.7.3"
  }
 },
 "nbformat": 4,
 "nbformat_minor": 4
}
