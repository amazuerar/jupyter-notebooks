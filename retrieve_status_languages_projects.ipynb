{
 "cells": [
  {
   "cell_type": "code",
   "execution_count": null,
   "metadata": {},
   "outputs": [],
   "source": [
    "import os\n",
    "import sys\n",
    "import json\n",
    "import requests\n",
    "import xlsxwriter\n",
    "import numpy as np\n",
    "import pandas as pd\n",
    "from github import Github\n",
    "from bson import json_util\n",
    "from itertools import cycle\n",
    "from pymongo import MongoClient\n",
    "from collections import defaultdict\n"
   ]
  },
  {
   "cell_type": "code",
   "execution_count": null,
   "metadata": {},
   "outputs": [],
   "source": [
    "def getToken(token_number):\n",
    "    if str(token_number) == '1':\n",
    "        return 'obfuscated'\n",
    "    if str(token_number) == '2':\n",
    "        return 'obfuscated'\n",
    "    if str(token_number) == '3':\n",
    "        return 'obfuscated'\n",
    "    if str(token_number) == '4':\n",
    "        return 'obfuscated'\n",
    "    if str(token_number) == '5':\n",
    "        return 'obfuscated'\n",
    "    if str(token_number) == '6':\n",
    "        return 'obfuscated'\n",
    "    if str(token_number) == '7':\n",
    "        return 'obfuscated'\n",
    "    if str(token_number) == '8':\n",
    "        return 'obfuscated'\n",
    "    if str(token_number) == '9':\n",
    "        return 'obfuscated'\n",
    "    if str(token_number) == '10':\n",
    "        return 'obfuscated'\n",
    "    if str(token_number) == '11':\n",
    "        return 'obfuscated'\n",
    "    if str(token_number) == '12':\n",
    "        return 'obfuscated'"
   ]
  },
  {
   "cell_type": "code",
   "execution_count": null,
   "metadata": {},
   "outputs": [],
   "source": [
    "# 1. Cargar dataset "
   ]
  },
  {
   "cell_type": "code",
   "execution_count": null,
   "metadata": {},
   "outputs": [],
   "source": [
    "data = pd.read_csv(\"./datasets/obfuscated.csv\", sep=\",\")"
   ]
  },
  {
   "cell_type": "code",
   "execution_count": null,
   "metadata": {},
   "outputs": [],
   "source": [
    "data.head(1)"
   ]
  },
  {
   "cell_type": "code",
   "execution_count": null,
   "metadata": {},
   "outputs": [],
   "source": [
    "data.shape"
   ]
  },
  {
   "cell_type": "code",
   "execution_count": null,
   "metadata": {},
   "outputs": [],
   "source": [
    "def process(dataframe, first_token, second_token, third_token, fourth_token):\n",
    "    dft = dataframe\n",
    "    tkn_array = [getToken(first_token), getToken(second_token), getToken(third_token), getToken(fourth_token)]\n",
    "    alternator = cycle(range(3))\n",
    "    \n",
    "    for i, row in dft.iterrows():\n",
    "        \n",
    "        active_tkn = tkn_array[next(alternator)]\n",
    "        headers = {'Authorization': 'token ' + str(active_tkn)}\n",
    "        repo = row['api_repo_name']\n",
    "        \n",
    "        try:\n",
    "            response = requests.get(\"https://api.github.com/repos/\"+repo, headers=headers)\n",
    "            response.raise_for_status()\n",
    "            \n",
    "            data = json.dumps(response.json())\n",
    "            load_as_json = json.loads(data)\n",
    "\n",
    "            language = load_as_json[\"language\"]\n",
    "            dft.at[i, 'status'] = 'FOUND'\n",
    "            dft.at[i, 'main_language'] = str(language)\n",
    "\n",
    "            if i % 100 == 0:\n",
    "                print(\"Step: \", str(i), \" token: \", active_tkn)\n",
    "\n",
    "        except requests.exceptions.HTTPError as err:\n",
    "            print(\"##################################################################################################\")\n",
    "            print (str(i), \" Estoy evaluando: \", repo, \" token: \", active_tkn)\n",
    "            print (\"Causa la excepcion: \", err)\n",
    "            print(\"##################################################################################################\")\n",
    "            dft.at[i, 'status'] = 'NOT FOUND'\n",
    "            dft.at[i, 'main_language'] = 'NOT FOUND'\n",
    "    return dft"
   ]
  },
  {
   "cell_type": "code",
   "execution_count": null,
   "metadata": {},
   "outputs": [],
   "source": [
    "check_status_db =  process(data, 3, 5, 6, 7)"
   ]
  },
  {
   "cell_type": "code",
   "execution_count": null,
   "metadata": {},
   "outputs": [],
   "source": [
    "check_status_db.head(10)"
   ]
  },
  {
   "cell_type": "code",
   "execution_count": null,
   "metadata": {},
   "outputs": [],
   "source": [
    "check_status_db.shape"
   ]
  },
  {
   "cell_type": "code",
   "execution_count": null,
   "metadata": {},
   "outputs": [],
   "source": [
    "check_status_db['status'].value_counts()"
   ]
  },
  {
   "cell_type": "code",
   "execution_count": null,
   "metadata": {},
   "outputs": [],
   "source": [
    "check_status_db['db'].value_counts()"
   ]
  },
  {
   "cell_type": "code",
   "execution_count": null,
   "metadata": {},
   "outputs": [],
   "source": [
    "check_status_db['main_language'].value_counts()"
   ]
  },
  {
   "cell_type": "code",
   "execution_count": null,
   "metadata": {},
   "outputs": [],
   "source": [
    "df_status = check_status_db.loc[check_status_db['db'] != 'GA']"
   ]
  },
  {
   "cell_type": "code",
   "execution_count": null,
   "metadata": {},
   "outputs": [],
   "source": [
    "# Create a Pandas Excel writer using XlsxWriter as the engine.\n",
    "writer = pd.ExcelWriter('obfuscated.xlsx', engine='xlsxwriter')\n",
    "\n",
    "# Convert the dataframe to an XlsxWriter Excel object.\n",
    "df_status.to_excel(writer, sheet_name='Sheet1')\n",
    "\n",
    "# Close the Pandas Excel writer and output the Excel file.\n",
    "writer.save()"
   ]
  },
  {
   "cell_type": "code",
   "execution_count": null,
   "metadata": {},
   "outputs": [],
   "source": [
    "df_status.to_csv('obfuscated.csv', index=False)"
   ]
  },
  {
   "cell_type": "code",
   "execution_count": null,
   "metadata": {},
   "outputs": [],
   "source": [
    "df_found = df_found.loc[df_found['status'] != 'NOT FOUND']"
   ]
  },
  {
   "cell_type": "code",
   "execution_count": null,
   "metadata": {},
   "outputs": [],
   "source": [
    "df_found.shape"
   ]
  },
  {
   "cell_type": "code",
   "execution_count": null,
   "metadata": {},
   "outputs": [],
   "source": [
    "# Create a Pandas Excel writer using XlsxWriter as the engine.\n",
    "writer = pd.ExcelWriter('obfuscated.xlsx', engine='xlsxwriter')\n",
    "\n",
    "# Convert the dataframe to an XlsxWriter Excel object.\n",
    "df_found.to_excel(writer, sheet_name='obfuscated')\n",
    "\n",
    "# Close the Pandas Excel writer and output the Excel file.\n",
    "writer.save()"
   ]
  },
  {
   "cell_type": "code",
   "execution_count": null,
   "metadata": {},
   "outputs": [],
   "source": [
    "df_found.to_csv('obfuscated.csv', index=False)"
   ]
  }
 ],
 "metadata": {
  "kernelspec": {
   "display_name": "Python 3",
   "language": "python",
   "name": "python3"
  },
  "language_info": {
   "codemirror_mode": {
    "name": "ipython",
    "version": 3
   },
   "file_extension": ".py",
   "mimetype": "text/x-python",
   "name": "python",
   "nbconvert_exporter": "python",
   "pygments_lexer": "ipython3",
   "version": "3.7.3"
  }
 },
 "nbformat": 4,
 "nbformat_minor": 4
}
