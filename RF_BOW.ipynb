{
 "cells": [
  {
   "cell_type": "code",
   "execution_count": null,
   "metadata": {},
   "outputs": [],
   "source": [
    "import pandas as pd\n",
    "from sklearn.externals import joblib\n",
    "import numpy as np\n",
    "import os\n",
    "from sklearn.metrics import precision_score # micro macro avergae for multiclass\n",
    "from sklearn.metrics import recall_score # micro macro avergae for multiclass"
   ]
  },
  {
   "cell_type": "code",
   "execution_count": null,
   "metadata": {},
   "outputs": [],
   "source": [
    "test= pd.read_csv('Data_train_test/multi_Xtest_Juliet_b0.csv')"
   ]
  },
  {
   "cell_type": "code",
   "execution_count": null,
   "metadata": {},
   "outputs": [],
   "source": [
    "def load_model(name): # grid search\n",
    "    # Load the model from the file\n",
    "    clf = joblib.load(f'{name}.pkl')   \n",
    "    return clf\n",
    "\n",
    "\n",
    "def precission_byClass(dataset,approach,rep,basepath,i,mode='tfidf'):\n",
    "    \n",
    "    clf = load_model(f'clfs/BOW/best/{approach}_{dataset}_{rep}_{mode}')\n",
    "    x_test = np.load(os.path.join(basepath,'BOW',f'{approach}_{dataset}_{mode}_test_{rep}.npy'))\n",
    "\n",
    "    if approach == 'binary':\n",
    "        y_test = pd.read_csv(os.path.join(basepath,'Data_train_test',f'{approach}_Ytest_{dataset}_{rep}.csv'))['VULN_N']\n",
    "        y_predict = clf.predict(x_test)       \n",
    "        print(rep,u'\\t' , precision_score(y_test,y_predict, pos_label='VULN'))    \n",
    "    \n",
    "    else:\n",
    "        y_test = pd.read_csv(os.path.join(basepath,'Data_train_test',f'{approach}_Ytest_{dataset}_{rep}.csv'))['TYPE_N']\n",
    "        y_predict = clf.predict(x_test)       \n",
    "        labels = y_test.unique()\n",
    "        if i == 0:\n",
    "            print(labels)\n",
    "        print(rep,u'\\t' , precision_score(y_test,y_predict,average= None,labels=labels))  \n",
    "    \n",
    "def recall_byClass(dataset,approach,rep,basepath,i,mode='tfidf'):\n",
    "    \n",
    "    clf = load_model(f'clfs/BOW/best/{approach}_{dataset}_{rep}_{mode}')\n",
    "    x_test = np.load(os.path.join(basepath,'BOW',f'{approach}_{dataset}_{mode}_test_{rep}.npy'))\n",
    "\n",
    "    if approach == 'binary':\n",
    "        y_test = pd.read_csv(os.path.join(basepath,'Data_train_test',f'{approach}_Ytest_{dataset}_{rep}.csv'))['VULN_N']\n",
    "        y_predict = clf.predict(x_test)       \n",
    "        print(rep,u'\\t' , precision_score(y_test,y_predict, pos_label='VULN'))    \n",
    "    \n",
    "    else:\n",
    "        y_test = pd.read_csv(os.path.join(basepath,'Data_train_test',f'{approach}_Ytest_{dataset}_{rep}.csv'))['TYPE_N']\n",
    "        y_predict = clf.predict(x_test)       \n",
    "        labels = y_test.unique()\n",
    "        if i == 0:\n",
    "            print(labels)\n",
    "        print(rep,u'\\t' , recall_score(y_test,y_predict,average= None,labels=labels))  \n",
    "    \n",
    "def run_all():\n",
    "    \n",
    "    for dataset in ['Juliet','OUR', 'Russell']:\n",
    "        print('-------' ,dataset)\n",
    "        i = 0\n",
    "        for rep in ['b0', 'b1', 'b1_int', 'b1_iden','b1_int_iden']:\n",
    "            precission_byClass(dataset,approach,rep,basepath,i)           \n",
    "            i+=1\n",
    "            \n",
    "    \n",
    "def run_all2():\n",
    "    \n",
    "    for dataset in ['Juliet','OUR', 'Russell']:\n",
    "        print('-------' ,dataset)\n",
    "        i = 0\n",
    "        for rep in ['b0', 'b1', 'b1_int', 'b1_iden','b1_int_iden']:\n",
    "            recall_byClass(dataset,approach,rep,basepath,i)           \n",
    "            i+=1"
   ]
  },
  {
   "cell_type": "code",
   "execution_count": null,
   "metadata": {},
   "outputs": [],
   "source": [
    "approach= 'multi'\n",
    "basepath = 'obfuscated'\n",
    "run_all()"
   ]
  },
  {
   "cell_type": "code",
   "execution_count": null,
   "metadata": {},
   "outputs": [],
   "source": [
    "run_all2()"
   ]
  }
 ],
 "metadata": {
  "kernelspec": {
   "display_name": "Python 3",
   "language": "python",
   "name": "python3"
  },
  "language_info": {
   "codemirror_mode": {
    "name": "ipython",
    "version": 3
   },
   "file_extension": ".py",
   "mimetype": "text/x-python",
   "name": "python",
   "nbconvert_exporter": "python",
   "pygments_lexer": "ipython3",
   "version": "3.7.3"
  }
 },
 "nbformat": 4,
 "nbformat_minor": 4
}
